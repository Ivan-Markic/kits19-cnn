{
 "cells": [
  {
   "cell_type": "markdown",
   "metadata": {},
   "source": [
    "# How to create the bounding boxes?\n",
    "* Create the largest bounding box for each class of the label \n",
    "    * recursively do this for each label and then choose the largest bounding box to infer a square bounding box size\n",
    "* step 1: Try to do this for a binary task and then generalize\n",
    "* 3D bounding box detection?\n",
    "* Possible Problems\n",
    "    * What if the max bounding box of the test set is greater than the one in the training set?\n",
    "        * __L__\n",
    "    * Overfitting?\n",
    "    * Limited view so maybe not as great at predicting?\n",
    "* Set b_h, b_w to the constant patch sizes as the labels, so it will always predict those patch sizes\n",
    "* __Pipeline:__\n",
    "    * Find max b_h, b_w (2D patch size) and pad all localization to that shape\n",
    "        * problem: lots of blank inputs in 3D crop (how about 2D patches only?)\n",
    "        * make sure patch size is compatible with the segmentation network\n",
    "    * Create labels: p_c, b_x, b_y with those b_h and b_w\n",
    "        * How do find b_x and b_y?\n",
    "        * YOLO?\n",
    "* __Approach #2:__\n",
    "    * Localization for each\n",
    "    * dynamic shape cnn?\n",
    "    "
   ]
  },
  {
   "cell_type": "code",
   "execution_count": 6,
   "metadata": {},
   "outputs": [
    {
     "name": "stdout",
     "output_type": "stream",
     "text": [
      "210\n"
     ]
    }
   ],
   "source": [
    "import nibabel as nib\n",
    "import os\n",
    "import numpy as np\n",
    "from glob import glob\n",
    "dset_path = \"C:\\\\Users\\\\Joseph\\\\kits19\\\\data\"\n",
    "case_paths = glob(dset_path + \"\\\\*\\\\\", recursive = True)\n",
    "print(len(case_paths))"
   ]
  },
  {
   "cell_type": "code",
   "execution_count": 11,
   "metadata": {},
   "outputs": [
    {
     "name": "stdout",
     "output_type": "stream",
     "text": [
      "shape:  (611, 512, 512) \n",
      "Unique:  [ 0.  1.  2.]\n"
     ]
    }
   ],
   "source": [
    "# testing example\n",
    "label = nib.load(case_paths[0] + \"segmentation.nii.gz\").get_fdata()\n",
    "print(\"shape: \", label.shape, \"\\nUnique: \", np.unique(label))"
   ]
  },
  {
   "cell_type": "code",
   "execution_count": 20,
   "metadata": {},
   "outputs": [
    {
     "data": {
      "text/plain": [
       "<matplotlib.image.AxesImage at 0x592f70908>"
      ]
     },
     "execution_count": 20,
     "metadata": {},
     "output_type": "execute_result"
    },
    {
     "data": {
      "image/png": "[encoded data removed]",
      "text/plain": [
       "<Figure size 432x288 with 1 Axes>"
      ]
     },
     "metadata": {},
     "output_type": "display_data"
    }
   ],
   "source": [
    "import matplotlib.pyplot as plt\n",
    "%matplotlib inline\n",
    "n_slice = 150\n",
    "plt.imshow(label[n_slice], cmap = \"bone\")"
   ]
  },
  {
   "cell_type": "code",
   "execution_count": 13,
   "metadata": {},
   "outputs": [],
   "source": [
    "def extract_largest_bbox(mask, coords = False):\n",
    "    \"\"\"\n",
    "    Resizing image around a specified region (i.e. nonzero region)\n",
    "    Args:\n",
    "        image: assumes a mask where the background class is 0\n",
    "        coords: boolean on whether or not to return boundaries (bounding box coords) (optional; default: False)\n",
    "    Returns:\n",
    "        cropped segmentation mask\n",
    "        a nested list of the mins and and maxes of each axis (when coords = True)\n",
    "    \"\"\"\n",
    "    pos_idx = np.where(mask != 0)\n",
    "    # fetching all of the min/maxes for each axes\n",
    "    pos_x, pos_y, pos_z = pos_idx[1], pos_idx[2], pos_idx[0]\n",
    "    minZidx, maxZidx = int(np.min(pos_z)), int(np.max(pos_z)) + 1\n",
    "    minXidx, maxXidx = int(np.min(pos_x)), int(np.max(pos_x)) + 1\n",
    "    minYidx, maxYidx = int(np.min(pos_y)), int(np.max(pos_y)) + 1\n",
    "    # resize images\n",
    "    resizer = (slice(minZidx, maxZidx), slice(minXidx, maxXidx), slice(minYidx, maxYidx))\n",
    "    coord_list = [[minZidx, maxZidx], [minXidx, maxXidx], [minYidx, maxYidx]]\n",
    "    # returns cropped outputs with the bbox coordinates\n",
    "    if coords:\n",
    "        return (mask[resizer], coord_list)\n",
    "    # returns just cropped outputs\n",
    "    elif not coords:\n",
    "        return (mask[resizer])"
   ]
  },
  {
   "cell_type": "code",
   "execution_count": 14,
   "metadata": {},
   "outputs": [
    {
     "name": "stdout",
     "output_type": "stream",
     "text": [
      "Shape:  (262, 102, 229)\n"
     ]
    },
    {
     "data": {
      "text/plain": [
       "<matplotlib.image.AxesImage at 0x592c114e0>"
      ]
     },
     "execution_count": 14,
     "metadata": {},
     "output_type": "execute_result"
    },
    {
     "data": {
      "image/png": "[encoded data removed]",
      "text/plain": [
       "<Figure size 432x288 with 1 Axes>"
      ]
     },
     "metadata": {},
     "output_type": "display_data"
    }
   ],
   "source": [
    "frame, coords = extract_largest_bbox(label, coords = True)\n",
    "print(\"Shape: \", frame.shape)\n",
    "n_slice = 50\n",
    "plt.imshow(frame[n_slice], cmap = 'bone')"
   ]
  },
  {
   "cell_type": "code",
   "execution_count": 22,
   "metadata": {},
   "outputs": [],
   "source": [
    "# finding largest bounding box in dataset\n",
    "import nibabel as nib\n",
    "import os\n",
    "import numpy as np\n",
    "from glob import glob\n",
    "dset_path = \"C:\\\\Users\\\\Joseph\\\\kits19\\\\data\"\n",
    "case_paths = glob(dset_path + \"\\\\*\\\\\", recursive = True)\n",
    "\n",
    "bbox_shapes = []\n",
    "for case in case_paths:\n",
    "    print(\"Checking: \", case)\n",
    "    _label = nib.load(case + \"segmentation.nii.gz\").get_fdata()\n",
    "    extracted = extract_largest_bbox(_label)\n",
    "    bbox_shapes.append(np.asarray(extracted.shape))\n",
    "max_shape = tuple(np.max(bbox_shapes, axis = 0))"
   ]
  },
  {
   "cell_type": "code",
   "execution_count": 23,
   "metadata": {},
   "outputs": [
    {
     "name": "stdout",
     "output_type": "stream",
     "text": [
      "(334, 215, 459)\n"
     ]
    }
   ],
   "source": [
    "print(max_shape)"
   ]
  },
  {
   "cell_type": "code",
   "execution_count": null,
   "metadata": {},
   "outputs": [],
   "source": []
  }
 ],
 "metadata": {
  "kernelspec": {
   "display_name": "Python 3",
   "language": "python",
   "name": "python3"
  },
  "language_info": {
   "codemirror_mode": {
    "name": "ipython",
    "version": 3
   },
   "file_extension": ".py",
   "mimetype": "text/x-python",
   "name": "python",
   "nbconvert_exporter": "python",
   "pygments_lexer": "ipython3",
   "version": "3.5.5"
  }
 },
 "nbformat": 4,
 "nbformat_minor": 2
}
